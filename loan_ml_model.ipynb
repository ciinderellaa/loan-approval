{
  "cells": [
    {
      "cell_type": "code",
      "execution_count": null,
      "id": "1f27360b",
      "metadata": {
        "id": "1f27360b"
      },
      "outputs": [],
      "source": [
        "import pandas as pd\n",
        "import numpy as np\n",
        "import seaborn as sns\n",
        "import matplotlib.pyplot as plt"
      ]
    },
    {
      "cell_type": "code",
      "execution_count": null,
      "id": "04def756",
      "metadata": {
        "id": "04def756"
      },
      "outputs": [],
      "source": [
        "from sklearn.metrics import precision_score,confusion_matrix,classification_report\n",
        "from sklearn.model_selection import GridSearchCV\n",
        "from sklearn.preprocessing import LabelEncoder\n",
        "from sklearn.impute import KNNImputer\n",
        "from sklearn.model_selection import train_test_split\n",
        "from sklearn.ensemble import AdaBoostClassifier,RandomForestClassifier\n",
        "from sklearn.utils import class_weight"
      ]
    },
    {
      "cell_type": "code",
      "execution_count": null,
      "id": "08e6c2ba",
      "metadata": {
        "id": "08e6c2ba"
      },
      "outputs": [],
      "source": [
        "# loading the data\n",
        "data = pd.read_csv('Loan Approval.csv')"
      ]
    },
    {
      "cell_type": "code",
      "execution_count": null,
      "id": "908e898a",
      "metadata": {
        "id": "908e898a"
      },
      "outputs": [],
      "source": [
        "# coping data\n",
        "df=data.copy()"
      ]
    },
    {
      "cell_type": "code",
      "execution_count": null,
      "id": "51f6ac47",
      "metadata": {
        "id": "51f6ac47"
      },
      "outputs": [],
      "source": [
        "# define features and target\n",
        "x=df.drop([\"Loan_ID\",\"Loan_Status\"],axis=1)\n",
        "y=df[[\"Loan_Status\"]]\n",
        "\n",
        "# split the data into train and test sets\n",
        "from sklearn.model_selection import train_test_split\n",
        "train_x,test_x,train_y,test_y = train_test_split(x,y,test_size=0.2,random_state=0)"
      ]
    },
    {
      "cell_type": "code",
      "execution_count": null,
      "id": "6c754a70",
      "metadata": {
        "id": "6c754a70"
      },
      "outputs": [],
      "source": [
        "# apply EDA"
      ]
    },
    {
      "cell_type": "code",
      "execution_count": null,
      "id": "bec5c3fd",
      "metadata": {
        "id": "bec5c3fd",
        "outputId": "fdd0d49f-1ff3-46b1-d734-746b8230ab37"
      },
      "outputs": [
        {
          "data": {
            "text/html": [
              "<div>\n",
              "<style scoped>\n",
              "    .dataframe tbody tr th:only-of-type {\n",
              "        vertical-align: middle;\n",
              "    }\n",
              "\n",
              "    .dataframe tbody tr th {\n",
              "        vertical-align: top;\n",
              "    }\n",
              "\n",
              "    .dataframe thead th {\n",
              "        text-align: right;\n",
              "    }\n",
              "</style>\n",
              "<table border=\"1\" class=\"dataframe\">\n",
              "  <thead>\n",
              "    <tr style=\"text-align: right;\">\n",
              "      <th></th>\n",
              "      <th>Gender</th>\n",
              "      <th>Married</th>\n",
              "      <th>Dependents</th>\n",
              "      <th>Education</th>\n",
              "      <th>Self_Employed</th>\n",
              "      <th>ApplicantIncome</th>\n",
              "      <th>CoapplicantIncome</th>\n",
              "      <th>LoanAmount</th>\n",
              "      <th>Loan_Amount_Term</th>\n",
              "      <th>Credit_History</th>\n",
              "      <th>Property_Area</th>\n",
              "    </tr>\n",
              "  </thead>\n",
              "  <tbody>\n",
              "    <tr>\n",
              "      <th>90</th>\n",
              "      <td>Male</td>\n",
              "      <td>Yes</td>\n",
              "      <td>0</td>\n",
              "      <td>Graduate</td>\n",
              "      <td>No</td>\n",
              "      <td>2958</td>\n",
              "      <td>2900.0</td>\n",
              "      <td>131.0</td>\n",
              "      <td>360.0</td>\n",
              "      <td>1.0</td>\n",
              "      <td>Semiurban</td>\n",
              "    </tr>\n",
              "    <tr>\n",
              "      <th>533</th>\n",
              "      <td>Male</td>\n",
              "      <td>No</td>\n",
              "      <td>1</td>\n",
              "      <td>Graduate</td>\n",
              "      <td>No</td>\n",
              "      <td>11250</td>\n",
              "      <td>0.0</td>\n",
              "      <td>196.0</td>\n",
              "      <td>360.0</td>\n",
              "      <td>NaN</td>\n",
              "      <td>Semiurban</td>\n",
              "    </tr>\n",
              "    <tr>\n",
              "      <th>452</th>\n",
              "      <td>Male</td>\n",
              "      <td>Yes</td>\n",
              "      <td>0</td>\n",
              "      <td>Graduate</td>\n",
              "      <td>No</td>\n",
              "      <td>3948</td>\n",
              "      <td>1733.0</td>\n",
              "      <td>149.0</td>\n",
              "      <td>360.0</td>\n",
              "      <td>0.0</td>\n",
              "      <td>Rural</td>\n",
              "    </tr>\n",
              "    <tr>\n",
              "      <th>355</th>\n",
              "      <td>Female</td>\n",
              "      <td>No</td>\n",
              "      <td>NaN</td>\n",
              "      <td>Graduate</td>\n",
              "      <td>No</td>\n",
              "      <td>3813</td>\n",
              "      <td>0.0</td>\n",
              "      <td>116.0</td>\n",
              "      <td>180.0</td>\n",
              "      <td>1.0</td>\n",
              "      <td>Urban</td>\n",
              "    </tr>\n",
              "    <tr>\n",
              "      <th>266</th>\n",
              "      <td>Male</td>\n",
              "      <td>Yes</td>\n",
              "      <td>2</td>\n",
              "      <td>Graduate</td>\n",
              "      <td>No</td>\n",
              "      <td>4708</td>\n",
              "      <td>1387.0</td>\n",
              "      <td>150.0</td>\n",
              "      <td>360.0</td>\n",
              "      <td>1.0</td>\n",
              "      <td>Semiurban</td>\n",
              "    </tr>\n",
              "  </tbody>\n",
              "</table>\n",
              "</div>"
            ],
            "text/plain": [
              "     Gender Married Dependents Education Self_Employed  ApplicantIncome  \\\n",
              "90     Male     Yes          0  Graduate            No             2958   \n",
              "533    Male      No          1  Graduate            No            11250   \n",
              "452    Male     Yes          0  Graduate            No             3948   \n",
              "355  Female      No        NaN  Graduate            No             3813   \n",
              "266    Male     Yes          2  Graduate            No             4708   \n",
              "\n",
              "     CoapplicantIncome  LoanAmount  Loan_Amount_Term  Credit_History  \\\n",
              "90              2900.0       131.0             360.0             1.0   \n",
              "533                0.0       196.0             360.0             NaN   \n",
              "452             1733.0       149.0             360.0             0.0   \n",
              "355                0.0       116.0             180.0             1.0   \n",
              "266             1387.0       150.0             360.0             1.0   \n",
              "\n",
              "    Property_Area  \n",
              "90      Semiurban  \n",
              "533     Semiurban  \n",
              "452         Rural  \n",
              "355         Urban  \n",
              "266     Semiurban  "
            ]
          },
          "execution_count": 7,
          "metadata": {},
          "output_type": "execute_result"
        }
      ],
      "source": [
        "#check for first 5 rows of the train data\n",
        "train_x.head()"
      ]
    },
    {
      "cell_type": "code",
      "execution_count": null,
      "id": "0d9321e6",
      "metadata": {
        "id": "0d9321e6",
        "outputId": "c53b9a1c-330f-487e-f590-81f53d21786e"
      },
      "outputs": [
        {
          "name": "stdout",
          "output_type": "stream",
          "text": [
            "<class 'pandas.core.frame.DataFrame'>\n",
            "Int64Index: 491 entries, 90 to 559\n",
            "Data columns (total 11 columns):\n",
            " #   Column             Non-Null Count  Dtype  \n",
            "---  ------             --------------  -----  \n",
            " 0   Gender             479 non-null    object \n",
            " 1   Married            488 non-null    object \n",
            " 2   Dependents         476 non-null    object \n",
            " 3   Education          491 non-null    object \n",
            " 4   Self_Employed      463 non-null    object \n",
            " 5   ApplicantIncome    491 non-null    int64  \n",
            " 6   CoapplicantIncome  491 non-null    float64\n",
            " 7   LoanAmount         471 non-null    float64\n",
            " 8   Loan_Amount_Term   480 non-null    float64\n",
            " 9   Credit_History     450 non-null    float64\n",
            " 10  Property_Area      491 non-null    object \n",
            "dtypes: float64(4), int64(1), object(6)\n",
            "memory usage: 46.0+ KB\n"
          ]
        }
      ],
      "source": [
        "#check columns informations\n",
        "train_x.info()"
      ]
    },
    {
      "cell_type": "code",
      "execution_count": null,
      "id": "dea348bd",
      "metadata": {
        "id": "dea348bd",
        "outputId": "016ccacd-0676-4104-faa0-326f806bac93"
      },
      "outputs": [
        {
          "data": {
            "text/html": [
              "<div>\n",
              "<style scoped>\n",
              "    .dataframe tbody tr th:only-of-type {\n",
              "        vertical-align: middle;\n",
              "    }\n",
              "\n",
              "    .dataframe tbody tr th {\n",
              "        vertical-align: top;\n",
              "    }\n",
              "\n",
              "    .dataframe thead th {\n",
              "        text-align: right;\n",
              "    }\n",
              "</style>\n",
              "<table border=\"1\" class=\"dataframe\">\n",
              "  <thead>\n",
              "    <tr style=\"text-align: right;\">\n",
              "      <th></th>\n",
              "      <th>ApplicantIncome</th>\n",
              "      <th>CoapplicantIncome</th>\n",
              "      <th>LoanAmount</th>\n",
              "      <th>Loan_Amount_Term</th>\n",
              "      <th>Credit_History</th>\n",
              "    </tr>\n",
              "  </thead>\n",
              "  <tbody>\n",
              "    <tr>\n",
              "      <th>count</th>\n",
              "      <td>491.000000</td>\n",
              "      <td>491.000000</td>\n",
              "      <td>471.000000</td>\n",
              "      <td>480.000000</td>\n",
              "      <td>450.000000</td>\n",
              "    </tr>\n",
              "    <tr>\n",
              "      <th>mean</th>\n",
              "      <td>5619.018330</td>\n",
              "      <td>1525.863381</td>\n",
              "      <td>147.324841</td>\n",
              "      <td>342.550000</td>\n",
              "      <td>0.837778</td>\n",
              "    </tr>\n",
              "    <tr>\n",
              "      <th>std</th>\n",
              "      <td>6659.021257</td>\n",
              "      <td>2787.398712</td>\n",
              "      <td>88.482349</td>\n",
              "      <td>63.953251</td>\n",
              "      <td>0.369065</td>\n",
              "    </tr>\n",
              "    <tr>\n",
              "      <th>min</th>\n",
              "      <td>150.000000</td>\n",
              "      <td>0.000000</td>\n",
              "      <td>9.000000</td>\n",
              "      <td>36.000000</td>\n",
              "      <td>0.000000</td>\n",
              "    </tr>\n",
              "    <tr>\n",
              "      <th>25%</th>\n",
              "      <td>2932.000000</td>\n",
              "      <td>0.000000</td>\n",
              "      <td>100.000000</td>\n",
              "      <td>360.000000</td>\n",
              "      <td>1.000000</td>\n",
              "    </tr>\n",
              "    <tr>\n",
              "      <th>50%</th>\n",
              "      <td>3850.000000</td>\n",
              "      <td>997.000000</td>\n",
              "      <td>128.000000</td>\n",
              "      <td>360.000000</td>\n",
              "      <td>1.000000</td>\n",
              "    </tr>\n",
              "    <tr>\n",
              "      <th>75%</th>\n",
              "      <td>5763.000000</td>\n",
              "      <td>2167.500000</td>\n",
              "      <td>165.500000</td>\n",
              "      <td>360.000000</td>\n",
              "      <td>1.000000</td>\n",
              "    </tr>\n",
              "    <tr>\n",
              "      <th>max</th>\n",
              "      <td>81000.000000</td>\n",
              "      <td>41667.000000</td>\n",
              "      <td>700.000000</td>\n",
              "      <td>480.000000</td>\n",
              "      <td>1.000000</td>\n",
              "    </tr>\n",
              "  </tbody>\n",
              "</table>\n",
              "</div>"
            ],
            "text/plain": [
              "       ApplicantIncome  CoapplicantIncome  LoanAmount  Loan_Amount_Term  \\\n",
              "count       491.000000         491.000000  471.000000        480.000000   \n",
              "mean       5619.018330        1525.863381  147.324841        342.550000   \n",
              "std        6659.021257        2787.398712   88.482349         63.953251   \n",
              "min         150.000000           0.000000    9.000000         36.000000   \n",
              "25%        2932.000000           0.000000  100.000000        360.000000   \n",
              "50%        3850.000000         997.000000  128.000000        360.000000   \n",
              "75%        5763.000000        2167.500000  165.500000        360.000000   \n",
              "max       81000.000000       41667.000000  700.000000        480.000000   \n",
              "\n",
              "       Credit_History  \n",
              "count      450.000000  \n",
              "mean         0.837778  \n",
              "std          0.369065  \n",
              "min          0.000000  \n",
              "25%          1.000000  \n",
              "50%          1.000000  \n",
              "75%          1.000000  \n",
              "max          1.000000  "
            ]
          },
          "execution_count": 9,
          "metadata": {},
          "output_type": "execute_result"
        }
      ],
      "source": [
        "#check basic informations of numeric columns\n",
        "train_x.describe()"
      ]
    },
    {
      "cell_type": "code",
      "execution_count": null,
      "id": "8af948ff",
      "metadata": {
        "id": "8af948ff",
        "outputId": "2b467093-e658-4d6d-94c3-56600bc3402d"
      },
      "outputs": [
        {
          "data": {
            "text/plain": [
              "Gender                 0\n",
              "Married                0\n",
              "Dependents             0\n",
              "Education              0\n",
              "Self_Employed          0\n",
              "ApplicantIncome        0\n",
              "CoapplicantIncome    228\n",
              "LoanAmount             0\n",
              "Loan_Amount_Term       0\n",
              "Credit_History        73\n",
              "Property_Area          0\n",
              "dtype: int64"
            ]
          },
          "execution_count": 10,
          "metadata": {},
          "output_type": "execute_result"
        }
      ],
      "source": [
        "#check for any zero values to handle it if it's not reasonable\n",
        "train_x[train_x==0].count()"
      ]
    },
    {
      "cell_type": "code",
      "execution_count": null,
      "id": "8dfc1212",
      "metadata": {
        "id": "8dfc1212"
      },
      "outputs": [],
      "source": [
        "#check unique values of non numeric columns and it's frequancy on our data"
      ]
    },
    {
      "cell_type": "code",
      "execution_count": null,
      "id": "d07afbd0",
      "metadata": {
        "id": "d07afbd0",
        "outputId": "1e389d5c-2cba-44cd-e09b-4a7e77908cc1"
      },
      "outputs": [
        {
          "data": {
            "text/plain": [
              "Male      389\n",
              "Female     90\n",
              "Name: Gender, dtype: int64"
            ]
          },
          "execution_count": 12,
          "metadata": {},
          "output_type": "execute_result"
        }
      ],
      "source": [
        "train_x['Gender'].value_counts()"
      ]
    },
    {
      "cell_type": "code",
      "execution_count": null,
      "id": "1a9c3f7e",
      "metadata": {
        "id": "1a9c3f7e",
        "outputId": "1dccdb26-a8f6-4d5c-da0c-5045b4cf38cf"
      },
      "outputs": [
        {
          "data": {
            "text/plain": [
              "Yes    323\n",
              "No     165\n",
              "Name: Married, dtype: int64"
            ]
          },
          "execution_count": 13,
          "metadata": {},
          "output_type": "execute_result"
        }
      ],
      "source": [
        "train_x['Married'].value_counts()"
      ]
    },
    {
      "cell_type": "code",
      "execution_count": null,
      "id": "40533e9f",
      "metadata": {
        "id": "40533e9f",
        "outputId": "643e4093-9e03-4535-c03f-5fa05b11d5cb"
      },
      "outputs": [
        {
          "data": {
            "text/plain": [
              "No     394\n",
              "Yes     69\n",
              "Name: Self_Employed, dtype: int64"
            ]
          },
          "execution_count": 14,
          "metadata": {},
          "output_type": "execute_result"
        }
      ],
      "source": [
        "train_x['Self_Employed'].value_counts()"
      ]
    },
    {
      "cell_type": "code",
      "execution_count": null,
      "id": "a8025561",
      "metadata": {
        "id": "a8025561",
        "outputId": "0fee9e55-9ba9-438a-8bfb-a49ede64be52"
      },
      "outputs": [
        {
          "data": {
            "text/plain": [
              "Graduate        383\n",
              "Not Graduate    108\n",
              "Name: Education, dtype: int64"
            ]
          },
          "execution_count": 15,
          "metadata": {},
          "output_type": "execute_result"
        }
      ],
      "source": [
        "train_x['Education'].value_counts()"
      ]
    },
    {
      "cell_type": "code",
      "execution_count": null,
      "id": "db646efa",
      "metadata": {
        "id": "db646efa",
        "outputId": "9585dbea-473d-43cd-fb62-f15c81cf9fca"
      },
      "outputs": [
        {
          "data": {
            "text/plain": [
              "0     264\n",
              "1      86\n",
              "2      85\n",
              "3+     41\n",
              "Name: Dependents, dtype: int64"
            ]
          },
          "execution_count": 16,
          "metadata": {},
          "output_type": "execute_result"
        }
      ],
      "source": [
        "train_x['Dependents'].value_counts()"
      ]
    },
    {
      "cell_type": "code",
      "execution_count": null,
      "id": "d7f9659e",
      "metadata": {
        "id": "d7f9659e",
        "outputId": "b732842a-e489-410e-8ead-763d63528c39"
      },
      "outputs": [
        {
          "data": {
            "text/plain": [
              "Semiurban    185\n",
              "Urban        163\n",
              "Rural        143\n",
              "Name: Property_Area, dtype: int64"
            ]
          },
          "execution_count": 17,
          "metadata": {},
          "output_type": "execute_result"
        }
      ],
      "source": [
        "train_x['Property_Area'].value_counts()"
      ]
    },
    {
      "cell_type": "code",
      "execution_count": null,
      "id": "6fb72a7a",
      "metadata": {
        "id": "6fb72a7a"
      },
      "outputs": [],
      "source": [
        "#check the distribution of the numerical data"
      ]
    },
    {
      "cell_type": "code",
      "execution_count": null,
      "id": "8df55146",
      "metadata": {
        "scrolled": true,
        "id": "8df55146",
        "outputId": "5401207a-0674-4130-f68e-0f5e0a6fae32"
      },
      "outputs": [
        {
          "data": {
            "text/plain": [
              "<Axes: xlabel='ApplicantIncome', ylabel='Count'>"
            ]
          },
          "execution_count": 19,
          "metadata": {},
          "output_type": "execute_result"
        },
        {
          "data": {
            "image/png": "[encoded data removed]",
            "text/plain": [
              "<Figure size 720x360 with 1 Axes>"
            ]
          },
          "metadata": {
            "needs_background": "light"
          },
          "output_type": "display_data"
        }
      ],
      "source": [
        "fig=plt.figure(figsize=(10,5))\n",
        "sns.histplot(train_x['ApplicantIncome'],kde=True)"
      ]
    },
    {
      "cell_type": "code",
      "execution_count": null,
      "id": "635c524f",
      "metadata": {
        "id": "635c524f",
        "outputId": "92dcee35-6463-444e-a21c-71d0865f6756"
      },
      "outputs": [
        {
          "data": {
            "text/plain": [
              "<Axes: xlabel='CoapplicantIncome', ylabel='Count'>"
            ]
          },
          "execution_count": 20,
          "metadata": {},
          "output_type": "execute_result"
        },
        {
          "data": {
            "image/png": "[encoded data removed]",
            "text/plain": [
              "<Figure size 720x360 with 1 Axes>"
            ]
          },
          "metadata": {
            "needs_background": "light"
          },
          "output_type": "display_data"
        }
      ],
      "source": [
        "fig=plt.figure(figsize=(10,5))\n",
        "sns.histplot(train_x['CoapplicantIncome'],kde=True)"
      ]
    },
    {
      "cell_type": "code",
      "execution_count": null,
      "id": "c74a6aaa",
      "metadata": {
        "id": "c74a6aaa",
        "outputId": "15ed1eb2-db00-4d5d-fe47-33889759f6cb"
      },
      "outputs": [
        {
          "data": {
            "text/plain": [
              "<Axes: xlabel='LoanAmount', ylabel='Count'>"
            ]
          },
          "execution_count": 21,
          "metadata": {},
          "output_type": "execute_result"
        },
        {
          "data": {
            "image/png": "[encoded data removed]",
            "text/plain": [
              "<Figure size 720x360 with 1 Axes>"
            ]
          },
          "metadata": {
            "needs_background": "light"
          },
          "output_type": "display_data"
        }
      ],
      "source": [
        "fig=plt.figure(figsize=(10,5))\n",
        "sns.histplot(train_x['LoanAmount'],kde=True)"
      ]
    },
    {
      "cell_type": "code",
      "execution_count": null,
      "id": "a775a93f",
      "metadata": {
        "id": "a775a93f",
        "outputId": "9ba2b6f0-0bc0-4561-9e5d-cd0fb00310d2"
      },
      "outputs": [
        {
          "data": {
            "text/plain": [
              "<Axes: xlabel='Loan_Amount_Term', ylabel='Count'>"
            ]
          },
          "execution_count": 22,
          "metadata": {},
          "output_type": "execute_result"
        },
        {
          "data": {
            "image/png": "[encoded data removed]",
            "text/plain": [
              "<Figure size 360x360 with 1 Axes>"
            ]
          },
          "metadata": {
            "needs_background": "light"
          },
          "output_type": "display_data"
        }
      ],
      "source": [
        "fig=plt.figure(figsize=(5,3))\n",
        "sns.histplot(train_x['Loan_Amount_Term'])"
      ]
    },
    {
      "cell_type": "code",
      "execution_count": null,
      "id": "8c9fc887",
      "metadata": {
        "id": "8c9fc887",
        "outputId": "31b8fdcc-935c-4b69-fcbe-8723a9795473"
      },
      "outputs": [
        {
          "data": {
            "text/plain": [
              "<Axes: xlabel='Credit_History', ylabel='Count'>"
            ]
          },
          "execution_count": 23,
          "metadata": {},
          "output_type": "execute_result"
        },
        {
          "data": {
            "image/png": "[encoded data removed]",
            "text/plain": [
              "<Figure size 360x360 with 1 Axes>"
            ]
          },
          "metadata": {
            "needs_background": "light"
          },
          "output_type": "display_data"
        }
      ],
      "source": [
        "fig=plt.figure(figsize=(5,3))\n",
        "sns.histplot(train_x['Credit_History'])"
      ]
    },
    {
      "cell_type": "code",
      "execution_count": null,
      "id": "6b6f725e",
      "metadata": {
        "id": "6b6f725e"
      },
      "outputs": [],
      "source": [
        "#data preparation and cleaning"
      ]
    },
    {
      "cell_type": "code",
      "execution_count": null,
      "id": "67487610",
      "metadata": {
        "id": "67487610"
      },
      "outputs": [],
      "source": [
        "# as we can see the data is right skewed so we will apply a sqrt transformation"
      ]
    },
    {
      "cell_type": "code",
      "execution_count": null,
      "id": "45a3ec69",
      "metadata": {
        "id": "45a3ec69"
      },
      "outputs": [],
      "source": [
        "# perform sqrt transformation on columns\n",
        "train_x[['LoanAmount','ApplicantIncome','CoapplicantIncome']]=np.sqrt(train_x[['LoanAmount','ApplicantIncome','CoapplicantIncome']])\n",
        "test_x[['LoanAmount','ApplicantIncome','CoapplicantIncome']]=np.sqrt(test_x[['LoanAmount','ApplicantIncome','CoapplicantIncome']])"
      ]
    },
    {
      "cell_type": "code",
      "execution_count": null,
      "id": "c6db74e2",
      "metadata": {
        "scrolled": true,
        "id": "c6db74e2",
        "outputId": "852da951-ef3f-4b04-fa0e-541523647013"
      },
      "outputs": [
        {
          "data": {
            "text/plain": [
              "<Axes: xlabel='LoanAmount', ylabel='Count'>"
            ]
          },
          "execution_count": 27,
          "metadata": {},
          "output_type": "execute_result"
        },
        {
          "data": {
            "image/png": "[encoded data removed]",
            "text/plain": [
              "<Figure size 720x360 with 1 Axes>"
            ]
          },
          "metadata": {
            "needs_background": "light"
          },
          "output_type": "display_data"
        }
      ],
      "source": [
        "# constract a sample to see the diffrence\n",
        "fig=plt.figure(figsize=(10,5))\n",
        "sns.histplot(train_x['LoanAmount'],kde=True)"
      ]
    },
    {
      "cell_type": "code",
      "execution_count": null,
      "id": "88c23792",
      "metadata": {
        "id": "88c23792"
      },
      "outputs": [],
      "source": [
        "# now it's time to impute the missings"
      ]
    },
    {
      "cell_type": "code",
      "execution_count": null,
      "id": "4dc84335",
      "metadata": {
        "id": "4dc84335",
        "outputId": "5e0b3ca3-c6d2-449d-e0e8-6a0f85410577"
      },
      "outputs": [
        {
          "data": {
            "text/plain": [
              "Gender               12\n",
              "Married               3\n",
              "Dependents           15\n",
              "Education             0\n",
              "Self_Employed        28\n",
              "ApplicantIncome       0\n",
              "CoapplicantIncome     0\n",
              "LoanAmount           20\n",
              "Loan_Amount_Term     11\n",
              "Credit_History       41\n",
              "Property_Area         0\n",
              "dtype: int64"
            ]
          },
          "execution_count": 29,
          "metadata": {},
          "output_type": "execute_result"
        }
      ],
      "source": [
        "train_x.isnull().sum()"
      ]
    },
    {
      "cell_type": "code",
      "execution_count": null,
      "id": "123af4c0",
      "metadata": {
        "id": "123af4c0"
      },
      "outputs": [],
      "source": [
        "# encode non numeric values\n",
        "train_x['Married'].replace(['Yes','No'],[1,0], inplace=True)\n",
        "test_x['Married'].replace(['Yes','No'],[1,0], inplace=True)\n",
        "\n",
        "train_x['Gender'].replace(['Male','Female'],[1,0], inplace=True)\n",
        "test_x['Gender'].replace(['Male','Female'],[1,0], inplace=True)\n",
        "\n",
        "train_x['Dependents'].replace(['3+','2','1','0'],[3,2,1,0], inplace=True)\n",
        "test_x['Dependents'].replace(['3+','2','1','0'],[3,2,1,0], inplace=True)\n",
        "\n",
        "train_x['Education'].replace(['Graduate','Not Graduate'],[1,0], inplace=True)\n",
        "test_x['Education'].replace(['Graduate','Not Graduate'],[1,0], inplace=True)\n",
        "\n",
        "train_x['Self_Employed'].replace(['Yes','No'],[1,0], inplace=True)\n",
        "test_x['Self_Employed'].replace(['Yes','No'],[1,0], inplace=True)\n",
        "\n",
        "train_x['Property_Area'].replace(['Urban','Semiurban','Rural'],[2,1,0], inplace=True)\n",
        "test_x['Property_Area'].replace(['Urban','Semiurban','Rural'],[2,1,0], inplace=True)"
      ]
    },
    {
      "cell_type": "code",
      "execution_count": null,
      "id": "00f7df91",
      "metadata": {
        "scrolled": true,
        "id": "00f7df91"
      },
      "outputs": [],
      "source": [
        "# impute misssing data using knn imputer\n",
        "col=train_x.columns\n",
        "imputer = KNNImputer()\n",
        "train_x = imputer.fit_transform(train_x)\n",
        "test_x = imputer.fit_transform(test_x)"
      ]
    },
    {
      "cell_type": "code",
      "execution_count": null,
      "id": "43cca89f",
      "metadata": {
        "id": "43cca89f"
      },
      "outputs": [],
      "source": [
        "#convert the numpy array into dataframe\n",
        "train_x = pd.DataFrame(train_x,columns=col)\n",
        "test_x = pd.DataFrame(test_x,columns=col)"
      ]
    },
    {
      "cell_type": "code",
      "execution_count": null,
      "id": "f876cc15",
      "metadata": {
        "scrolled": false,
        "id": "f876cc15",
        "outputId": "9926858e-e0dc-4717-ad91-ae22b316acc7"
      },
      "outputs": [
        {
          "data": {
            "text/plain": [
              "0.0    412\n",
              "1.0     69\n",
              "0.2      6\n",
              "0.4      3\n",
              "0.6      1\n",
              "Name: Self_Employed, dtype: int64"
            ]
          },
          "execution_count": 33,
          "metadata": {},
          "output_type": "execute_result"
        }
      ],
      "source": [
        "train_x['Self_Employed'].value_counts()"
      ]
    },
    {
      "cell_type": "code",
      "execution_count": null,
      "id": "3a9e350e",
      "metadata": {
        "id": "3a9e350e",
        "outputId": "3e95c6bb-7360-4349-d2e9-0df55b466f6e"
      },
      "outputs": [
        {
          "data": {
            "text/plain": [
              "1.0    325\n",
              "0.0    165\n",
              "0.4      1\n",
              "Name: Married, dtype: int64"
            ]
          },
          "execution_count": 34,
          "metadata": {},
          "output_type": "execute_result"
        }
      ],
      "source": [
        "train_x['Married'].value_counts()"
      ]
    },
    {
      "cell_type": "code",
      "execution_count": null,
      "id": "1568bdf3",
      "metadata": {
        "id": "1568bdf3",
        "outputId": "b6426d94-e979-4475-9091-658b4da608a7"
      },
      "outputs": [
        {
          "data": {
            "text/plain": [
              "1.0    393\n",
              "0.0     90\n",
              "0.6      3\n",
              "0.4      3\n",
              "0.8      2\n",
              "Name: Gender, dtype: int64"
            ]
          },
          "execution_count": 35,
          "metadata": {},
          "output_type": "execute_result"
        }
      ],
      "source": [
        "train_x['Gender'].value_counts()"
      ]
    },
    {
      "cell_type": "code",
      "execution_count": null,
      "id": "103e4cb9",
      "metadata": {
        "id": "103e4cb9",
        "outputId": "aeb13c35-5111-4d31-d270-8aa89fc7c1bc"
      },
      "outputs": [
        {
          "data": {
            "text/plain": [
              "0.0    264\n",
              "1.0     88\n",
              "2.0     85\n",
              "3.0     41\n",
              "1.2      5\n",
              "0.6      3\n",
              "0.4      2\n",
              "1.4      1\n",
              "1.6      1\n",
              "1.8      1\n",
              "Name: Dependents, dtype: int64"
            ]
          },
          "execution_count": 36,
          "metadata": {},
          "output_type": "execute_result"
        }
      ],
      "source": [
        "train_x['Dependents'].value_counts()"
      ]
    },
    {
      "cell_type": "code",
      "execution_count": null,
      "id": "ba1cf137",
      "metadata": {
        "id": "ba1cf137"
      },
      "outputs": [],
      "source": [
        "# as we can see there are some values that should be handeled we will use a threshold of 05 in binary classes\n",
        "# and x.5 in more than 2 classes"
      ]
    },
    {
      "cell_type": "code",
      "execution_count": null,
      "id": "6ba9322b",
      "metadata": {
        "id": "6ba9322b"
      },
      "outputs": [],
      "source": [
        "train_x['Self_Employed'] = train_x['Self_Employed'].apply(lambda x: 1 if x > 0.5 else 0)\n",
        "test_x['Self_Employed'] = test_x['Self_Employed'].apply(lambda x: 1 if x > 0.5 else 0)\n",
        "\n",
        "train_x['Married'] = train_x['Married'].apply(lambda x: 1 if x > 0.5 else 0)\n",
        "test_x['Married'] = test_x['Married'].apply(lambda x: 1 if x > 0.5 else 0)\n",
        "\n",
        "train_x['Gender'] = train_x['Gender'].apply(lambda x: 1 if x > 0.5 else 0)\n",
        "test_x['Gender'] = test_x['Gender'].apply(lambda x: 1 if x > 0.5 else 0)\n",
        "\n",
        "train_x['Dependents'] = train_x['Dependents'].apply(lambda x: 0 if x < 0.5 else (1 if x <= 1.5 else 2))\n",
        "test_x['Dependents'] = test_x['Dependents'].apply(lambda x: 0 if x < 0.5 else (1 if x <= 1.5 else 2))"
      ]
    },
    {
      "cell_type": "code",
      "execution_count": null,
      "id": "c3623292",
      "metadata": {
        "id": "c3623292"
      },
      "outputs": [],
      "source": [
        "# decode non numeric data again\n",
        "train_x['Married'].replace([1,0],['Yes','No'], inplace=True)\n",
        "test_x['Married'].replace([1,0],['Yes','No'], inplace=True)\n",
        "\n",
        "train_x['Gender'].replace([1,0],['Male','Female'], inplace=True)\n",
        "test_x['Gender'].replace([1,0],['Male','Female'], inplace=True)\n",
        "\n",
        "train_x['Dependents'].replace([3,2,1,0],['3+','2','1','0'], inplace=True)\n",
        "test_x['Dependents'].replace([3,2,1,0],['3+','2','1','0'], inplace=True)\n",
        "\n",
        "train_x['Education'].replace([1,0],['Graduate','Not Graduate'], inplace=True)\n",
        "test_x['Education'].replace([1,0],['Graduate','Not Graduate'], inplace=True)\n",
        "\n",
        "train_x['Self_Employed'].replace([1,0],['Yes','No'], inplace=True)\n",
        "test_x['Self_Employed'].replace([1,0],['Yes','No'], inplace=True)\n",
        "\n",
        "train_x['Property_Area'].replace([2,1,0],['Urban','Semiurban','Rural'], inplace=True)\n",
        "test_x['Property_Area'].replace([2,1,0],['Urban','Semiurban','Rural'], inplace=True)"
      ]
    },
    {
      "cell_type": "code",
      "execution_count": null,
      "id": "ced830a6",
      "metadata": {
        "id": "ced830a6",
        "outputId": "f67f19ef-116d-476c-d968-5f725787e201"
      },
      "outputs": [
        {
          "data": {
            "text/plain": [
              "Gender               0\n",
              "Married              0\n",
              "Dependents           0\n",
              "Education            0\n",
              "Self_Employed        0\n",
              "ApplicantIncome      0\n",
              "CoapplicantIncome    0\n",
              "LoanAmount           0\n",
              "Loan_Amount_Term     0\n",
              "Credit_History       0\n",
              "Property_Area        0\n",
              "dtype: int64"
            ]
          },
          "execution_count": 40,
          "metadata": {},
          "output_type": "execute_result"
        }
      ],
      "source": [
        "train_x.isnull().sum()"
      ]
    },
    {
      "cell_type": "code",
      "execution_count": null,
      "id": "1e9b5a8f",
      "metadata": {
        "id": "1e9b5a8f"
      },
      "outputs": [],
      "source": [
        "# apply one hot encoding on categorical data\n",
        "train_x=pd.get_dummies(train_x,columns=['Gender','Married','Dependents','Education','Self_Employed','Property_Area'])\n",
        "test_x=pd.get_dummies(test_x,columns=['Gender','Married','Dependents','Education','Self_Employed','Property_Area'])"
      ]
    },
    {
      "cell_type": "code",
      "execution_count": null,
      "id": "421be6ee",
      "metadata": {
        "id": "421be6ee"
      },
      "outputs": [],
      "source": [
        "# applying lable encoding on the target"
      ]
    },
    {
      "cell_type": "code",
      "execution_count": null,
      "id": "73999e37",
      "metadata": {
        "scrolled": false,
        "id": "73999e37",
        "outputId": "98c80f28-5ea0-4685-8c37-49a6f33ed765"
      },
      "outputs": [
        {
          "name": "stderr",
          "output_type": "stream",
          "text": [
            "C:\\Users\\maher\\anaconda\\lib\\site-packages\\sklearn\\preprocessing\\_label.py:116: DataConversionWarning: A column-vector y was passed when a 1d array was expected. Please change the shape of y to (n_samples, ), for example using ravel().\n",
            "  y = column_or_1d(y, warn=True)\n",
            "C:\\Users\\maher\\anaconda\\lib\\site-packages\\sklearn\\preprocessing\\_label.py:116: DataConversionWarning: A column-vector y was passed when a 1d array was expected. Please change the shape of y to (n_samples, ), for example using ravel().\n",
            "  y = column_or_1d(y, warn=True)\n"
          ]
        }
      ],
      "source": [
        "col=train_y.columns\n",
        "l = LabelEncoder()\n",
        "train_y = l.fit_transform(train_y)\n",
        "test_y = l.fit_transform(test_y)\n",
        "\n",
        "#convert the numpy array into df\n",
        "train_y = pd.DataFrame(train_y,columns=col)\n",
        "test_y = pd.DataFrame(test_y,columns=col)"
      ]
    },
    {
      "cell_type": "code",
      "execution_count": null,
      "id": "5511be87",
      "metadata": {
        "scrolled": true,
        "id": "5511be87",
        "outputId": "a244524f-a124-45ef-df16-b7bddb173946"
      },
      "outputs": [
        {
          "data": {
            "text/plain": [
              "Loan_Status\n",
              "1              332\n",
              "0              159\n",
              "dtype: int64"
            ]
          },
          "execution_count": 44,
          "metadata": {},
          "output_type": "execute_result"
        }
      ],
      "source": [
        "train_y.value_counts()"
      ]
    },
    {
      "cell_type": "code",
      "execution_count": null,
      "id": "22299e31",
      "metadata": {
        "id": "22299e31"
      },
      "outputs": [],
      "source": [
        "# as we can see we have imbalances in the data, so will handel it using clss weight technique"
      ]
    },
    {
      "cell_type": "code",
      "execution_count": null,
      "id": "24c6abb2",
      "metadata": {
        "id": "24c6abb2"
      },
      "outputs": [],
      "source": [
        "y=train_y['Loan_Status']\n",
        "class_weights = class_weight.compute_class_weight('balanced', classes=y.unique(), y=y)\n",
        "\n",
        "# Define the RandomForest Classifier\n",
        "rf = RandomForestClassifier(class_weight='balanced')"
      ]
    },
    {
      "cell_type": "code",
      "execution_count": null,
      "id": "6af5fa59",
      "metadata": {
        "id": "6af5fa59"
      },
      "outputs": [],
      "source": [
        "# apply ml models and check scores"
      ]
    },
    {
      "cell_type": "code",
      "execution_count": null,
      "id": "0f1de4d2",
      "metadata": {
        "id": "0f1de4d2"
      },
      "outputs": [],
      "source": [
        "# using ada boost"
      ]
    },
    {
      "cell_type": "code",
      "execution_count": null,
      "id": "8ac448ab",
      "metadata": {
        "id": "8ac448ab",
        "outputId": "2f2fd47f-9f9a-412f-a712-3128ffda4fcf"
      },
      "outputs": [
        {
          "name": "stderr",
          "output_type": "stream",
          "text": [
            "C:\\Users\\maher\\anaconda\\lib\\site-packages\\sklearn\\utils\\validation.py:1143: DataConversionWarning: A column-vector y was passed when a 1d array was expected. Please change the shape of y to (n_samples, ), for example using ravel().\n",
            "  y = column_or_1d(y, warn=True)\n",
            "C:\\Users\\maher\\anaconda\\lib\\site-packages\\sklearn\\ensemble\\_base.py:166: FutureWarning: `base_estimator` was renamed to `estimator` in version 1.2 and will be removed in 1.4.\n",
            "  warnings.warn(\n"
          ]
        },
        {
          "data": {
            "text/html": [
              "<style>#sk-container-id-1 {color: black;background-color: white;}#sk-container-id-1 pre{padding: 0;}#sk-container-id-1 div.sk-toggleable {background-color: white;}#sk-container-id-1 label.sk-toggleable__label {cursor: pointer;display: block;width: 100%;margin-bottom: 0;padding: 0.3em;box-sizing: border-box;text-align: center;}#sk-container-id-1 label.sk-toggleable__label-arrow:before {content: \"▸\";float: left;margin-right: 0.25em;color: #696969;}#sk-container-id-1 label.sk-toggleable__label-arrow:hover:before {color: black;}#sk-container-id-1 div.sk-estimator:hover label.sk-toggleable__label-arrow:before {color: black;}#sk-container-id-1 div.sk-toggleable__content {max-height: 0;max-width: 0;overflow: hidden;text-align: left;background-color: #f0f8ff;}#sk-container-id-1 div.sk-toggleable__content pre {margin: 0.2em;color: black;border-radius: 0.25em;background-color: #f0f8ff;}#sk-container-id-1 input.sk-toggleable__control:checked~div.sk-toggleable__content {max-height: 200px;max-width: 100%;overflow: auto;}#sk-container-id-1 input.sk-toggleable__control:checked~label.sk-toggleable__label-arrow:before {content: \"▾\";}#sk-container-id-1 div.sk-estimator input.sk-toggleable__control:checked~label.sk-toggleable__label {background-color: #d4ebff;}#sk-container-id-1 div.sk-label input.sk-toggleable__control:checked~label.sk-toggleable__label {background-color: #d4ebff;}#sk-container-id-1 input.sk-hidden--visually {border: 0;clip: rect(1px 1px 1px 1px);clip: rect(1px, 1px, 1px, 1px);height: 1px;margin: -1px;overflow: hidden;padding: 0;position: absolute;width: 1px;}#sk-container-id-1 div.sk-estimator {font-family: monospace;background-color: #f0f8ff;border: 1px dotted black;border-radius: 0.25em;box-sizing: border-box;margin-bottom: 0.5em;}#sk-container-id-1 div.sk-estimator:hover {background-color: #d4ebff;}#sk-container-id-1 div.sk-parallel-item::after {content: \"\";width: 100%;border-bottom: 1px solid gray;flex-grow: 1;}#sk-container-id-1 div.sk-label:hover label.sk-toggleable__label {background-color: #d4ebff;}#sk-container-id-1 div.sk-serial::before {content: \"\";position: absolute;border-left: 1px solid gray;box-sizing: border-box;top: 0;bottom: 0;left: 50%;z-index: 0;}#sk-container-id-1 div.sk-serial {display: flex;flex-direction: column;align-items: center;background-color: white;padding-right: 0.2em;padding-left: 0.2em;position: relative;}#sk-container-id-1 div.sk-item {position: relative;z-index: 1;}#sk-container-id-1 div.sk-parallel {display: flex;align-items: stretch;justify-content: center;background-color: white;position: relative;}#sk-container-id-1 div.sk-item::before, #sk-container-id-1 div.sk-parallel-item::before {content: \"\";position: absolute;border-left: 1px solid gray;box-sizing: border-box;top: 0;bottom: 0;left: 50%;z-index: -1;}#sk-container-id-1 div.sk-parallel-item {display: flex;flex-direction: column;z-index: 1;position: relative;background-color: white;}#sk-container-id-1 div.sk-parallel-item:first-child::after {align-self: flex-end;width: 50%;}#sk-container-id-1 div.sk-parallel-item:last-child::after {align-self: flex-start;width: 50%;}#sk-container-id-1 div.sk-parallel-item:only-child::after {width: 0;}#sk-container-id-1 div.sk-dashed-wrapped {border: 1px dashed gray;margin: 0 0.4em 0.5em 0.4em;box-sizing: border-box;padding-bottom: 0.4em;background-color: white;}#sk-container-id-1 div.sk-label label {font-family: monospace;font-weight: bold;display: inline-block;line-height: 1.2em;}#sk-container-id-1 div.sk-label-container {text-align: center;}#sk-container-id-1 div.sk-container {/* jupyter's `normalize.less` sets `[hidden] { display: none; }` but bootstrap.min.css set `[hidden] { display: none !important; }` so we also need the `!important` here to be able to override the default hidden behavior on the sphinx rendered scikit-learn.org. See: https://github.com/scikit-learn/scikit-learn/issues/21755 */display: inline-block !important;position: relative;}#sk-container-id-1 div.sk-text-repr-fallback {display: none;}</style><div id=\"sk-container-id-1\" class=\"sk-top-container\"><div class=\"sk-text-repr-fallback\"><pre>AdaBoostClassifier(base_estimator=RandomForestClassifier(class_weight=&#x27;balanced&#x27;))</pre><b>In a Jupyter environment, please rerun this cell to show the HTML representation or trust the notebook. <br />On GitHub, the HTML representation is unable to render, please try loading this page with nbviewer.org.</b></div><div class=\"sk-container\" hidden><div class=\"sk-item sk-dashed-wrapped\"><div class=\"sk-label-container\"><div class=\"sk-label sk-toggleable\"><input class=\"sk-toggleable__control sk-hidden--visually\" id=\"sk-estimator-id-1\" type=\"checkbox\" ><label for=\"sk-estimator-id-1\" class=\"sk-toggleable__label sk-toggleable__label-arrow\">AdaBoostClassifier</label><div class=\"sk-toggleable__content\"><pre>AdaBoostClassifier(base_estimator=RandomForestClassifier(class_weight=&#x27;balanced&#x27;))</pre></div></div></div><div class=\"sk-parallel\"><div class=\"sk-parallel-item\"><div class=\"sk-item\"><div class=\"sk-label-container\"><div class=\"sk-label sk-toggleable\"><input class=\"sk-toggleable__control sk-hidden--visually\" id=\"sk-estimator-id-2\" type=\"checkbox\" ><label for=\"sk-estimator-id-2\" class=\"sk-toggleable__label sk-toggleable__label-arrow\">base_estimator: RandomForestClassifier</label><div class=\"sk-toggleable__content\"><pre>RandomForestClassifier(class_weight=&#x27;balanced&#x27;)</pre></div></div></div><div class=\"sk-serial\"><div class=\"sk-item\"><div class=\"sk-estimator sk-toggleable\"><input class=\"sk-toggleable__control sk-hidden--visually\" id=\"sk-estimator-id-3\" type=\"checkbox\" ><label for=\"sk-estimator-id-3\" class=\"sk-toggleable__label sk-toggleable__label-arrow\">RandomForestClassifier</label><div class=\"sk-toggleable__content\"><pre>RandomForestClassifier(class_weight=&#x27;balanced&#x27;)</pre></div></div></div></div></div></div></div></div></div></div>"
            ],
            "text/plain": [
              "AdaBoostClassifier(base_estimator=RandomForestClassifier(class_weight='balanced'))"
            ]
          },
          "execution_count": 49,
          "metadata": {},
          "output_type": "execute_result"
        }
      ],
      "source": [
        "ada = AdaBoostClassifier(base_estimator=rf)\n",
        "ada.fit(train_x,train_y)"
      ]
    },
    {
      "cell_type": "code",
      "execution_count": null,
      "id": "9f20180f",
      "metadata": {
        "id": "9f20180f",
        "outputId": "2fe9bf04-bb6f-4127-e9f3-b92adec49661"
      },
      "outputs": [
        {
          "data": {
            "text/plain": [
              "100.0"
            ]
          },
          "execution_count": 50,
          "metadata": {},
          "output_type": "execute_result"
        }
      ],
      "source": [
        "y_pred = ada.predict(train_x)\n",
        "acc = precision_score(train_y, y_pred)\n",
        "acc*100"
      ]
    },
    {
      "cell_type": "code",
      "execution_count": null,
      "id": "59a45ab1",
      "metadata": {
        "id": "59a45ab1",
        "outputId": "fc6eb1d1-4d88-4c67-bd52-5348c0176152"
      },
      "outputs": [
        {
          "data": {
            "text/plain": [
              "81.81818181818183"
            ]
          },
          "execution_count": 51,
          "metadata": {},
          "output_type": "execute_result"
        }
      ],
      "source": [
        "y_pred = ada.predict(test_x)\n",
        "acc = precision_score(test_y, y_pred)\n",
        "acc*100"
      ]
    },
    {
      "cell_type": "code",
      "execution_count": null,
      "id": "605d1120",
      "metadata": {
        "id": "605d1120",
        "outputId": "c9c51e11-e69a-47e7-d274-9cac8ff9b082"
      },
      "outputs": [
        {
          "name": "stdout",
          "output_type": "stream",
          "text": [
            "[[15 18]\n",
            " [ 9 81]]\n"
          ]
        }
      ],
      "source": [
        "cm = confusion_matrix(test_y, y_pred)\n",
        "print(cm)"
      ]
    },
    {
      "cell_type": "code",
      "execution_count": null,
      "id": "f139167d",
      "metadata": {
        "scrolled": false,
        "id": "f139167d",
        "outputId": "69de6f47-7147-4089-8673-cf8f0e484f93"
      },
      "outputs": [
        {
          "name": "stdout",
          "output_type": "stream",
          "text": [
            "              precision    recall  f1-score   support\n",
            "\n",
            "           0       0.62      0.45      0.53        33\n",
            "           1       0.82      0.90      0.86        90\n",
            "\n",
            "    accuracy                           0.78       123\n",
            "   macro avg       0.72      0.68      0.69       123\n",
            "weighted avg       0.77      0.78      0.77       123\n",
            "\n"
          ]
        }
      ],
      "source": [
        "print(classification_report(test_y, y_pred))"
      ]
    },
    {
      "cell_type": "code",
      "execution_count": null,
      "id": "7e02cbd7",
      "metadata": {
        "id": "7e02cbd7"
      },
      "outputs": [],
      "source": [
        "# apply tuning and check if there is any improvement ?"
      ]
    },
    {
      "cell_type": "code",
      "execution_count": null,
      "id": "e2d3702b",
      "metadata": {
        "id": "e2d3702b",
        "outputId": "4d72c76e-f3e3-47bc-aa37-1bb5a6a9ddfb"
      },
      "outputs": [
        {
          "name": "stderr",
          "output_type": "stream",
          "text": [
            "C:\\Users\\maher\\anaconda\\lib\\site-packages\\sklearn\\utils\\validation.py:1143: DataConversionWarning: A column-vector y was passed when a 1d array was expected. Please change the shape of y to (n_samples, ), for example using ravel().\n",
            "  y = column_or_1d(y, warn=True)\n",
            "C:\\Users\\maher\\anaconda\\lib\\site-packages\\sklearn\\ensemble\\_base.py:166: FutureWarning: `base_estimator` was renamed to `estimator` in version 1.2 and will be removed in 1.4.\n",
            "  warnings.warn(\n",
            "C:\\Users\\maher\\anaconda\\lib\\site-packages\\sklearn\\utils\\validation.py:1143: DataConversionWarning: A column-vector y was passed when a 1d array was expected. Please change the shape of y to (n_samples, ), for example using ravel().\n",
            "  y = column_or_1d(y, warn=True)\n",
            "C:\\Users\\maher\\anaconda\\lib\\site-packages\\sklearn\\ensemble\\_base.py:166: FutureWarning: `base_estimator` was renamed to `estimator` in version 1.2 and will be removed in 1.4.\n",
            "  warnings.warn(\n",
            "C:\\Users\\maher\\anaconda\\lib\\site-packages\\sklearn\\utils\\validation.py:1143: DataConversionWarning: A column-vector y was passed when a 1d array was expected. Please change the shape of y to (n_samples, ), for example using ravel().\n",
            "  y = column_or_1d(y, warn=True)\n",
            "C:\\Users\\maher\\anaconda\\lib\\site-packages\\sklearn\\ensemble\\_base.py:166: FutureWarning: `base_estimator` was renamed to `estimator` in version 1.2 and will be removed in 1.4.\n",
            "  warnings.warn(\n",
            "C:\\Users\\maher\\anaconda\\lib\\site-packages\\sklearn\\utils\\validation.py:1143: DataConversionWarning: A column-vector y was passed when a 1d array was expected. Please change the shape of y to (n_samples, ), for example using ravel().\n",
            "  y = column_or_1d(y, warn=True)\n",
            "C:\\Users\\maher\\anaconda\\lib\\site-packages\\sklearn\\ensemble\\_base.py:166: FutureWarning: `base_estimator` was renamed to `estimator` in version 1.2 and will be removed in 1.4.\n",
            "  warnings.warn(\n",
            "C:\\Users\\maher\\anaconda\\lib\\site-packages\\sklearn\\utils\\validation.py:1143: DataConversionWarning: A column-vector y was passed when a 1d array was expected. Please change the shape of y to (n_samples, ), for example using ravel().\n",
            "  y = column_or_1d(y, warn=True)\n",
            "C:\\Users\\maher\\anaconda\\lib\\site-packages\\sklearn\\ensemble\\_base.py:166: FutureWarning: `base_estimator` was renamed to `estimator` in version 1.2 and will be removed in 1.4.\n",
            "  warnings.warn(\n",
            "C:\\Users\\maher\\anaconda\\lib\\site-packages\\sklearn\\utils\\validation.py:1143: DataConversionWarning: A column-vector y was passed when a 1d array was expected. Please change the shape of y to (n_samples, ), for example using ravel().\n",
            "  y = column_or_1d(y, warn=True)\n",
            "C:\\Users\\maher\\anaconda\\lib\\site-packages\\sklearn\\ensemble\\_base.py:166: FutureWarning: `base_estimator` was renamed to `estimator` in version 1.2 and will be removed in 1.4.\n",
            "  warnings.warn(\n",
            "C:\\Users\\maher\\anaconda\\lib\\site-packages\\sklearn\\utils\\validation.py:1143: DataConversionWarning: A column-vector y was passed when a 1d array was expected. Please change the shape of y to (n_samples, ), for example using ravel().\n",
            "  y = column_or_1d(y, warn=True)\n",
            "C:\\Users\\maher\\anaconda\\lib\\site-packages\\sklearn\\ensemble\\_base.py:166: FutureWarning: `base_estimator` was renamed to `estimator` in version 1.2 and will be removed in 1.4.\n",
            "  warnings.warn(\n",
            "C:\\Users\\maher\\anaconda\\lib\\site-packages\\sklearn\\utils\\validation.py:1143: DataConversionWarning: A column-vector y was passed when a 1d array was expected. Please change the shape of y to (n_samples, ), for example using ravel().\n",
            "  y = column_or_1d(y, warn=True)\n",
            "C:\\Users\\maher\\anaconda\\lib\\site-packages\\sklearn\\ensemble\\_base.py:166: FutureWarning: `base_estimator` was renamed to `estimator` in version 1.2 and will be removed in 1.4.\n",
            "  warnings.warn(\n",
            "C:\\Users\\maher\\anaconda\\lib\\site-packages\\sklearn\\utils\\validation.py:1143: DataConversionWarning: A column-vector y was passed when a 1d array was expected. Please change the shape of y to (n_samples, ), for example using ravel().\n",
            "  y = column_or_1d(y, warn=True)\n",
            "C:\\Users\\maher\\anaconda\\lib\\site-packages\\sklearn\\ensemble\\_base.py:166: FutureWarning: `base_estimator` was renamed to `estimator` in version 1.2 and will be removed in 1.4.\n",
            "  warnings.warn(\n",
            "C:\\Users\\maher\\anaconda\\lib\\site-packages\\sklearn\\utils\\validation.py:1143: DataConversionWarning: A column-vector y was passed when a 1d array was expected. Please change the shape of y to (n_samples, ), for example using ravel().\n",
            "  y = column_or_1d(y, warn=True)\n",
            "C:\\Users\\maher\\anaconda\\lib\\site-packages\\sklearn\\ensemble\\_base.py:166: FutureWarning: `base_estimator` was renamed to `estimator` in version 1.2 and will be removed in 1.4.\n",
            "  warnings.warn(\n",
            "C:\\Users\\maher\\anaconda\\lib\\site-packages\\sklearn\\utils\\validation.py:1143: DataConversionWarning: A column-vector y was passed when a 1d array was expected. Please change the shape of y to (n_samples, ), for example using ravel().\n",
            "  y = column_or_1d(y, warn=True)\n",
            "C:\\Users\\maher\\anaconda\\lib\\site-packages\\sklearn\\ensemble\\_base.py:166: FutureWarning: `base_estimator` was renamed to `estimator` in version 1.2 and will be removed in 1.4.\n",
            "  warnings.warn(\n",
            "C:\\Users\\maher\\anaconda\\lib\\site-packages\\sklearn\\utils\\validation.py:1143: DataConversionWarning: A column-vector y was passed when a 1d array was expected. Please change the shape of y to (n_samples, ), for example using ravel().\n",
            "  y = column_or_1d(y, warn=True)\n",
            "C:\\Users\\maher\\anaconda\\lib\\site-packages\\sklearn\\ensemble\\_base.py:166: FutureWarning: `base_estimator` was renamed to `estimator` in version 1.2 and will be removed in 1.4.\n",
            "  warnings.warn(\n",
            "C:\\Users\\maher\\anaconda\\lib\\site-packages\\sklearn\\utils\\validation.py:1143: DataConversionWarning: A column-vector y was passed when a 1d array was expected. Please change the shape of y to (n_samples, ), for example using ravel().\n",
            "  y = column_or_1d(y, warn=True)\n",
            "C:\\Users\\maher\\anaconda\\lib\\site-packages\\sklearn\\ensemble\\_base.py:166: FutureWarning: `base_estimator` was renamed to `estimator` in version 1.2 and will be removed in 1.4.\n",
            "  warnings.warn(\n",
            "C:\\Users\\maher\\anaconda\\lib\\site-packages\\sklearn\\utils\\validation.py:1143: DataConversionWarning: A column-vector y was passed when a 1d array was expected. Please change the shape of y to (n_samples, ), for example using ravel().\n",
            "  y = column_or_1d(y, warn=True)\n",
            "C:\\Users\\maher\\anaconda\\lib\\site-packages\\sklearn\\ensemble\\_base.py:166: FutureWarning: `base_estimator` was renamed to `estimator` in version 1.2 and will be removed in 1.4.\n",
            "  warnings.warn(\n",
            "C:\\Users\\maher\\anaconda\\lib\\site-packages\\sklearn\\utils\\validation.py:1143: DataConversionWarning: A column-vector y was passed when a 1d array was expected. Please change the shape of y to (n_samples, ), for example using ravel().\n",
            "  y = column_or_1d(y, warn=True)\n",
            "C:\\Users\\maher\\anaconda\\lib\\site-packages\\sklearn\\ensemble\\_base.py:166: FutureWarning: `base_estimator` was renamed to `estimator` in version 1.2 and will be removed in 1.4.\n",
            "  warnings.warn(\n",
            "C:\\Users\\maher\\anaconda\\lib\\site-packages\\sklearn\\utils\\validation.py:1143: DataConversionWarning: A column-vector y was passed when a 1d array was expected. Please change the shape of y to (n_samples, ), for example using ravel().\n",
            "  y = column_or_1d(y, warn=True)\n",
            "C:\\Users\\maher\\anaconda\\lib\\site-packages\\sklearn\\ensemble\\_base.py:166: FutureWarning: `base_estimator` was renamed to `estimator` in version 1.2 and will be removed in 1.4.\n",
            "  warnings.warn(\n",
            "C:\\Users\\maher\\anaconda\\lib\\site-packages\\sklearn\\utils\\validation.py:1143: DataConversionWarning: A column-vector y was passed when a 1d array was expected. Please change the shape of y to (n_samples, ), for example using ravel().\n",
            "  y = column_or_1d(y, warn=True)\n",
            "C:\\Users\\maher\\anaconda\\lib\\site-packages\\sklearn\\ensemble\\_base.py:166: FutureWarning: `base_estimator` was renamed to `estimator` in version 1.2 and will be removed in 1.4.\n",
            "  warnings.warn(\n",
            "C:\\Users\\maher\\anaconda\\lib\\site-packages\\sklearn\\utils\\validation.py:1143: DataConversionWarning: A column-vector y was passed when a 1d array was expected. Please change the shape of y to (n_samples, ), for example using ravel().\n",
            "  y = column_or_1d(y, warn=True)\n",
            "C:\\Users\\maher\\anaconda\\lib\\site-packages\\sklearn\\ensemble\\_base.py:166: FutureWarning: `base_estimator` was renamed to `estimator` in version 1.2 and will be removed in 1.4.\n",
            "  warnings.warn(\n",
            "C:\\Users\\maher\\anaconda\\lib\\site-packages\\sklearn\\utils\\validation.py:1143: DataConversionWarning: A column-vector y was passed when a 1d array was expected. Please change the shape of y to (n_samples, ), for example using ravel().\n",
            "  y = column_or_1d(y, warn=True)\n",
            "C:\\Users\\maher\\anaconda\\lib\\site-packages\\sklearn\\ensemble\\_base.py:166: FutureWarning: `base_estimator` was renamed to `estimator` in version 1.2 and will be removed in 1.4.\n",
            "  warnings.warn(\n",
            "C:\\Users\\maher\\anaconda\\lib\\site-packages\\sklearn\\utils\\validation.py:1143: DataConversionWarning: A column-vector y was passed when a 1d array was expected. Please change the shape of y to (n_samples, ), for example using ravel().\n",
            "  y = column_or_1d(y, warn=True)\n",
            "C:\\Users\\maher\\anaconda\\lib\\site-packages\\sklearn\\ensemble\\_base.py:166: FutureWarning: `base_estimator` was renamed to `estimator` in version 1.2 and will be removed in 1.4.\n",
            "  warnings.warn(\n",
            "C:\\Users\\maher\\anaconda\\lib\\site-packages\\sklearn\\utils\\validation.py:1143: DataConversionWarning: A column-vector y was passed when a 1d array was expected. Please change the shape of y to (n_samples, ), for example using ravel().\n",
            "  y = column_or_1d(y, warn=True)\n",
            "C:\\Users\\maher\\anaconda\\lib\\site-packages\\sklearn\\ensemble\\_base.py:166: FutureWarning: `base_estimator` was renamed to `estimator` in version 1.2 and will be removed in 1.4.\n",
            "  warnings.warn(\n",
            "C:\\Users\\maher\\anaconda\\lib\\site-packages\\sklearn\\utils\\validation.py:1143: DataConversionWarning: A column-vector y was passed when a 1d array was expected. Please change the shape of y to (n_samples, ), for example using ravel().\n",
            "  y = column_or_1d(y, warn=True)\n",
            "C:\\Users\\maher\\anaconda\\lib\\site-packages\\sklearn\\ensemble\\_base.py:166: FutureWarning: `base_estimator` was renamed to `estimator` in version 1.2 and will be removed in 1.4.\n",
            "  warnings.warn(\n",
            "C:\\Users\\maher\\anaconda\\lib\\site-packages\\sklearn\\utils\\validation.py:1143: DataConversionWarning: A column-vector y was passed when a 1d array was expected. Please change the shape of y to (n_samples, ), for example using ravel().\n",
            "  y = column_or_1d(y, warn=True)\n",
            "C:\\Users\\maher\\anaconda\\lib\\site-packages\\sklearn\\ensemble\\_base.py:166: FutureWarning: `base_estimator` was renamed to `estimator` in version 1.2 and will be removed in 1.4.\n",
            "  warnings.warn(\n",
            "C:\\Users\\maher\\anaconda\\lib\\site-packages\\sklearn\\utils\\validation.py:1143: DataConversionWarning: A column-vector y was passed when a 1d array was expected. Please change the shape of y to (n_samples, ), for example using ravel().\n",
            "  y = column_or_1d(y, warn=True)\n",
            "C:\\Users\\maher\\anaconda\\lib\\site-packages\\sklearn\\ensemble\\_base.py:166: FutureWarning: `base_estimator` was renamed to `estimator` in version 1.2 and will be removed in 1.4.\n",
            "  warnings.warn(\n",
            "C:\\Users\\maher\\anaconda\\lib\\site-packages\\sklearn\\utils\\validation.py:1143: DataConversionWarning: A column-vector y was passed when a 1d array was expected. Please change the shape of y to (n_samples, ), for example using ravel().\n",
            "  y = column_or_1d(y, warn=True)\n",
            "C:\\Users\\maher\\anaconda\\lib\\site-packages\\sklearn\\ensemble\\_base.py:166: FutureWarning: `base_estimator` was renamed to `estimator` in version 1.2 and will be removed in 1.4.\n",
            "  warnings.warn(\n",
            "C:\\Users\\maher\\anaconda\\lib\\site-packages\\sklearn\\utils\\validation.py:1143: DataConversionWarning: A column-vector y was passed when a 1d array was expected. Please change the shape of y to (n_samples, ), for example using ravel().\n",
            "  y = column_or_1d(y, warn=True)\n",
            "C:\\Users\\maher\\anaconda\\lib\\site-packages\\sklearn\\ensemble\\_base.py:166: FutureWarning: `base_estimator` was renamed to `estimator` in version 1.2 and will be removed in 1.4.\n",
            "  warnings.warn(\n",
            "C:\\Users\\maher\\anaconda\\lib\\site-packages\\sklearn\\utils\\validation.py:1143: DataConversionWarning: A column-vector y was passed when a 1d array was expected. Please change the shape of y to (n_samples, ), for example using ravel().\n",
            "  y = column_or_1d(y, warn=True)\n",
            "C:\\Users\\maher\\anaconda\\lib\\site-packages\\sklearn\\ensemble\\_base.py:166: FutureWarning: `base_estimator` was renamed to `estimator` in version 1.2 and will be removed in 1.4.\n",
            "  warnings.warn(\n",
            "C:\\Users\\maher\\anaconda\\lib\\site-packages\\sklearn\\utils\\validation.py:1143: DataConversionWarning: A column-vector y was passed when a 1d array was expected. Please change the shape of y to (n_samples, ), for example using ravel().\n",
            "  y = column_or_1d(y, warn=True)\n",
            "C:\\Users\\maher\\anaconda\\lib\\site-packages\\sklearn\\ensemble\\_base.py:166: FutureWarning: `base_estimator` was renamed to `estimator` in version 1.2 and will be removed in 1.4.\n",
            "  warnings.warn(\n",
            "C:\\Users\\maher\\anaconda\\lib\\site-packages\\sklearn\\utils\\validation.py:1143: DataConversionWarning: A column-vector y was passed when a 1d array was expected. Please change the shape of y to (n_samples, ), for example using ravel().\n",
            "  y = column_or_1d(y, warn=True)\n",
            "C:\\Users\\maher\\anaconda\\lib\\site-packages\\sklearn\\ensemble\\_base.py:166: FutureWarning: `base_estimator` was renamed to `estimator` in version 1.2 and will be removed in 1.4.\n",
            "  warnings.warn(\n",
            "C:\\Users\\maher\\anaconda\\lib\\site-packages\\sklearn\\utils\\validation.py:1143: DataConversionWarning: A column-vector y was passed when a 1d array was expected. Please change the shape of y to (n_samples, ), for example using ravel().\n",
            "  y = column_or_1d(y, warn=True)\n",
            "C:\\Users\\maher\\anaconda\\lib\\site-packages\\sklearn\\ensemble\\_base.py:166: FutureWarning: `base_estimator` was renamed to `estimator` in version 1.2 and will be removed in 1.4.\n",
            "  warnings.warn(\n",
            "C:\\Users\\maher\\anaconda\\lib\\site-packages\\sklearn\\utils\\validation.py:1143: DataConversionWarning: A column-vector y was passed when a 1d array was expected. Please change the shape of y to (n_samples, ), for example using ravel().\n",
            "  y = column_or_1d(y, warn=True)\n",
            "C:\\Users\\maher\\anaconda\\lib\\site-packages\\sklearn\\ensemble\\_base.py:166: FutureWarning: `base_estimator` was renamed to `estimator` in version 1.2 and will be removed in 1.4.\n",
            "  warnings.warn(\n",
            "C:\\Users\\maher\\anaconda\\lib\\site-packages\\sklearn\\utils\\validation.py:1143: DataConversionWarning: A column-vector y was passed when a 1d array was expected. Please change the shape of y to (n_samples, ), for example using ravel().\n",
            "  y = column_or_1d(y, warn=True)\n",
            "C:\\Users\\maher\\anaconda\\lib\\site-packages\\sklearn\\ensemble\\_base.py:166: FutureWarning: `base_estimator` was renamed to `estimator` in version 1.2 and will be removed in 1.4.\n",
            "  warnings.warn(\n",
            "C:\\Users\\maher\\anaconda\\lib\\site-packages\\sklearn\\utils\\validation.py:1143: DataConversionWarning: A column-vector y was passed when a 1d array was expected. Please change the shape of y to (n_samples, ), for example using ravel().\n",
            "  y = column_or_1d(y, warn=True)\n",
            "C:\\Users\\maher\\anaconda\\lib\\site-packages\\sklearn\\ensemble\\_base.py:166: FutureWarning: `base_estimator` was renamed to `estimator` in version 1.2 and will be removed in 1.4.\n",
            "  warnings.warn(\n",
            "C:\\Users\\maher\\anaconda\\lib\\site-packages\\sklearn\\utils\\validation.py:1143: DataConversionWarning: A column-vector y was passed when a 1d array was expected. Please change the shape of y to (n_samples, ), for example using ravel().\n",
            "  y = column_or_1d(y, warn=True)\n",
            "C:\\Users\\maher\\anaconda\\lib\\site-packages\\sklearn\\ensemble\\_base.py:166: FutureWarning: `base_estimator` was renamed to `estimator` in version 1.2 and will be removed in 1.4.\n",
            "  warnings.warn(\n",
            "C:\\Users\\maher\\anaconda\\lib\\site-packages\\sklearn\\utils\\validation.py:1143: DataConversionWarning: A column-vector y was passed when a 1d array was expected. Please change the shape of y to (n_samples, ), for example using ravel().\n",
            "  y = column_or_1d(y, warn=True)\n",
            "C:\\Users\\maher\\anaconda\\lib\\site-packages\\sklearn\\ensemble\\_base.py:166: FutureWarning: `base_estimator` was renamed to `estimator` in version 1.2 and will be removed in 1.4.\n",
            "  warnings.warn(\n",
            "C:\\Users\\maher\\anaconda\\lib\\site-packages\\sklearn\\utils\\validation.py:1143: DataConversionWarning: A column-vector y was passed when a 1d array was expected. Please change the shape of y to (n_samples, ), for example using ravel().\n",
            "  y = column_or_1d(y, warn=True)\n",
            "C:\\Users\\maher\\anaconda\\lib\\site-packages\\sklearn\\ensemble\\_base.py:166: FutureWarning: `base_estimator` was renamed to `estimator` in version 1.2 and will be removed in 1.4.\n",
            "  warnings.warn(\n",
            "C:\\Users\\maher\\anaconda\\lib\\site-packages\\sklearn\\utils\\validation.py:1143: DataConversionWarning: A column-vector y was passed when a 1d array was expected. Please change the shape of y to (n_samples, ), for example using ravel().\n",
            "  y = column_or_1d(y, warn=True)\n",
            "C:\\Users\\maher\\anaconda\\lib\\site-packages\\sklearn\\ensemble\\_base.py:166: FutureWarning: `base_estimator` was renamed to `estimator` in version 1.2 and will be removed in 1.4.\n",
            "  warnings.warn(\n",
            "C:\\Users\\maher\\anaconda\\lib\\site-packages\\sklearn\\utils\\validation.py:1143: DataConversionWarning: A column-vector y was passed when a 1d array was expected. Please change the shape of y to (n_samples, ), for example using ravel().\n",
            "  y = column_or_1d(y, warn=True)\n",
            "C:\\Users\\maher\\anaconda\\lib\\site-packages\\sklearn\\ensemble\\_base.py:166: FutureWarning: `base_estimator` was renamed to `estimator` in version 1.2 and will be removed in 1.4.\n",
            "  warnings.warn(\n",
            "C:\\Users\\maher\\anaconda\\lib\\site-packages\\sklearn\\utils\\validation.py:1143: DataConversionWarning: A column-vector y was passed when a 1d array was expected. Please change the shape of y to (n_samples, ), for example using ravel().\n",
            "  y = column_or_1d(y, warn=True)\n",
            "C:\\Users\\maher\\anaconda\\lib\\site-packages\\sklearn\\ensemble\\_base.py:166: FutureWarning: `base_estimator` was renamed to `estimator` in version 1.2 and will be removed in 1.4.\n",
            "  warnings.warn(\n",
            "C:\\Users\\maher\\anaconda\\lib\\site-packages\\sklearn\\utils\\validation.py:1143: DataConversionWarning: A column-vector y was passed when a 1d array was expected. Please change the shape of y to (n_samples, ), for example using ravel().\n",
            "  y = column_or_1d(y, warn=True)\n",
            "C:\\Users\\maher\\anaconda\\lib\\site-packages\\sklearn\\ensemble\\_base.py:166: FutureWarning: `base_estimator` was renamed to `estimator` in version 1.2 and will be removed in 1.4.\n",
            "  warnings.warn(\n",
            "C:\\Users\\maher\\anaconda\\lib\\site-packages\\sklearn\\utils\\validation.py:1143: DataConversionWarning: A column-vector y was passed when a 1d array was expected. Please change the shape of y to (n_samples, ), for example using ravel().\n",
            "  y = column_or_1d(y, warn=True)\n",
            "C:\\Users\\maher\\anaconda\\lib\\site-packages\\sklearn\\ensemble\\_base.py:166: FutureWarning: `base_estimator` was renamed to `estimator` in version 1.2 and will be removed in 1.4.\n",
            "  warnings.warn(\n",
            "C:\\Users\\maher\\anaconda\\lib\\site-packages\\sklearn\\utils\\validation.py:1143: DataConversionWarning: A column-vector y was passed when a 1d array was expected. Please change the shape of y to (n_samples, ), for example using ravel().\n",
            "  y = column_or_1d(y, warn=True)\n",
            "C:\\Users\\maher\\anaconda\\lib\\site-packages\\sklearn\\ensemble\\_base.py:166: FutureWarning: `base_estimator` was renamed to `estimator` in version 1.2 and will be removed in 1.4.\n",
            "  warnings.warn(\n",
            "C:\\Users\\maher\\anaconda\\lib\\site-packages\\sklearn\\utils\\validation.py:1143: DataConversionWarning: A column-vector y was passed when a 1d array was expected. Please change the shape of y to (n_samples, ), for example using ravel().\n",
            "  y = column_or_1d(y, warn=True)\n",
            "C:\\Users\\maher\\anaconda\\lib\\site-packages\\sklearn\\ensemble\\_base.py:166: FutureWarning: `base_estimator` was renamed to `estimator` in version 1.2 and will be removed in 1.4.\n",
            "  warnings.warn(\n",
            "C:\\Users\\maher\\anaconda\\lib\\site-packages\\sklearn\\utils\\validation.py:1143: DataConversionWarning: A column-vector y was passed when a 1d array was expected. Please change the shape of y to (n_samples, ), for example using ravel().\n",
            "  y = column_or_1d(y, warn=True)\n",
            "C:\\Users\\maher\\anaconda\\lib\\site-packages\\sklearn\\ensemble\\_base.py:166: FutureWarning: `base_estimator` was renamed to `estimator` in version 1.2 and will be removed in 1.4.\n",
            "  warnings.warn(\n",
            "C:\\Users\\maher\\anaconda\\lib\\site-packages\\sklearn\\utils\\validation.py:1143: DataConversionWarning: A column-vector y was passed when a 1d array was expected. Please change the shape of y to (n_samples, ), for example using ravel().\n",
            "  y = column_or_1d(y, warn=True)\n",
            "C:\\Users\\maher\\anaconda\\lib\\site-packages\\sklearn\\ensemble\\_base.py:166: FutureWarning: `base_estimator` was renamed to `estimator` in version 1.2 and will be removed in 1.4.\n",
            "  warnings.warn(\n"
          ]
        },
        {
          "name": "stdout",
          "output_type": "stream",
          "text": [
            "Best hyperparameters: {'learning_rate': 0.5, 'n_estimators': 150}\n"
          ]
        },
        {
          "name": "stderr",
          "output_type": "stream",
          "text": [
            "C:\\Users\\maher\\anaconda\\lib\\site-packages\\sklearn\\utils\\validation.py:1143: DataConversionWarning: A column-vector y was passed when a 1d array was expected. Please change the shape of y to (n_samples, ), for example using ravel().\n",
            "  y = column_or_1d(y, warn=True)\n",
            "C:\\Users\\maher\\anaconda\\lib\\site-packages\\sklearn\\ensemble\\_base.py:166: FutureWarning: `base_estimator` was renamed to `estimator` in version 1.2 and will be removed in 1.4.\n",
            "  warnings.warn(\n"
          ]
        }
      ],
      "source": [
        "param_grid = {\n",
        "    'n_estimators': [50, 100, 150],\n",
        "    'learning_rate': [0.1, 0.5, 1]\n",
        "}\n",
        "grid_search = GridSearchCV(ada, param_grid, cv=5)\n",
        "\n",
        "# Fit the grid search on the training data\n",
        "grid_search.fit(train_x,train_y)\n",
        "\n",
        "# Print the best hyperparameters and the corresponding performance score\n",
        "print('Best hyperparameters:', grid_search.best_params_)"
      ]
    },
    {
      "cell_type": "code",
      "execution_count": null,
      "id": "c727ba3e",
      "metadata": {
        "id": "c727ba3e",
        "outputId": "945ab1cd-450a-4361-bdbf-10b0e2ecd5a0"
      },
      "outputs": [
        {
          "name": "stderr",
          "output_type": "stream",
          "text": [
            "C:\\Users\\maher\\anaconda\\lib\\site-packages\\sklearn\\utils\\validation.py:1143: DataConversionWarning: A column-vector y was passed when a 1d array was expected. Please change the shape of y to (n_samples, ), for example using ravel().\n",
            "  y = column_or_1d(y, warn=True)\n"
          ]
        },
        {
          "data": {
            "text/html": [
              "<style>#sk-container-id-2 {color: black;background-color: white;}#sk-container-id-2 pre{padding: 0;}#sk-container-id-2 div.sk-toggleable {background-color: white;}#sk-container-id-2 label.sk-toggleable__label {cursor: pointer;display: block;width: 100%;margin-bottom: 0;padding: 0.3em;box-sizing: border-box;text-align: center;}#sk-container-id-2 label.sk-toggleable__label-arrow:before {content: \"▸\";float: left;margin-right: 0.25em;color: #696969;}#sk-container-id-2 label.sk-toggleable__label-arrow:hover:before {color: black;}#sk-container-id-2 div.sk-estimator:hover label.sk-toggleable__label-arrow:before {color: black;}#sk-container-id-2 div.sk-toggleable__content {max-height: 0;max-width: 0;overflow: hidden;text-align: left;background-color: #f0f8ff;}#sk-container-id-2 div.sk-toggleable__content pre {margin: 0.2em;color: black;border-radius: 0.25em;background-color: #f0f8ff;}#sk-container-id-2 input.sk-toggleable__control:checked~div.sk-toggleable__content {max-height: 200px;max-width: 100%;overflow: auto;}#sk-container-id-2 input.sk-toggleable__control:checked~label.sk-toggleable__label-arrow:before {content: \"▾\";}#sk-container-id-2 div.sk-estimator input.sk-toggleable__control:checked~label.sk-toggleable__label {background-color: #d4ebff;}#sk-container-id-2 div.sk-label input.sk-toggleable__control:checked~label.sk-toggleable__label {background-color: #d4ebff;}#sk-container-id-2 input.sk-hidden--visually {border: 0;clip: rect(1px 1px 1px 1px);clip: rect(1px, 1px, 1px, 1px);height: 1px;margin: -1px;overflow: hidden;padding: 0;position: absolute;width: 1px;}#sk-container-id-2 div.sk-estimator {font-family: monospace;background-color: #f0f8ff;border: 1px dotted black;border-radius: 0.25em;box-sizing: border-box;margin-bottom: 0.5em;}#sk-container-id-2 div.sk-estimator:hover {background-color: #d4ebff;}#sk-container-id-2 div.sk-parallel-item::after {content: \"\";width: 100%;border-bottom: 1px solid gray;flex-grow: 1;}#sk-container-id-2 div.sk-label:hover label.sk-toggleable__label {background-color: #d4ebff;}#sk-container-id-2 div.sk-serial::before {content: \"\";position: absolute;border-left: 1px solid gray;box-sizing: border-box;top: 0;bottom: 0;left: 50%;z-index: 0;}#sk-container-id-2 div.sk-serial {display: flex;flex-direction: column;align-items: center;background-color: white;padding-right: 0.2em;padding-left: 0.2em;position: relative;}#sk-container-id-2 div.sk-item {position: relative;z-index: 1;}#sk-container-id-2 div.sk-parallel {display: flex;align-items: stretch;justify-content: center;background-color: white;position: relative;}#sk-container-id-2 div.sk-item::before, #sk-container-id-2 div.sk-parallel-item::before {content: \"\";position: absolute;border-left: 1px solid gray;box-sizing: border-box;top: 0;bottom: 0;left: 50%;z-index: -1;}#sk-container-id-2 div.sk-parallel-item {display: flex;flex-direction: column;z-index: 1;position: relative;background-color: white;}#sk-container-id-2 div.sk-parallel-item:first-child::after {align-self: flex-end;width: 50%;}#sk-container-id-2 div.sk-parallel-item:last-child::after {align-self: flex-start;width: 50%;}#sk-container-id-2 div.sk-parallel-item:only-child::after {width: 0;}#sk-container-id-2 div.sk-dashed-wrapped {border: 1px dashed gray;margin: 0 0.4em 0.5em 0.4em;box-sizing: border-box;padding-bottom: 0.4em;background-color: white;}#sk-container-id-2 div.sk-label label {font-family: monospace;font-weight: bold;display: inline-block;line-height: 1.2em;}#sk-container-id-2 div.sk-label-container {text-align: center;}#sk-container-id-2 div.sk-container {/* jupyter's `normalize.less` sets `[hidden] { display: none; }` but bootstrap.min.css set `[hidden] { display: none !important; }` so we also need the `!important` here to be able to override the default hidden behavior on the sphinx rendered scikit-learn.org. See: https://github.com/scikit-learn/scikit-learn/issues/21755 */display: inline-block !important;position: relative;}#sk-container-id-2 div.sk-text-repr-fallback {display: none;}</style><div id=\"sk-container-id-2\" class=\"sk-top-container\"><div class=\"sk-text-repr-fallback\"><pre>AdaBoostClassifier(learning_rate=0.5, n_estimators=150)</pre><b>In a Jupyter environment, please rerun this cell to show the HTML representation or trust the notebook. <br />On GitHub, the HTML representation is unable to render, please try loading this page with nbviewer.org.</b></div><div class=\"sk-container\" hidden><div class=\"sk-item\"><div class=\"sk-estimator sk-toggleable\"><input class=\"sk-toggleable__control sk-hidden--visually\" id=\"sk-estimator-id-4\" type=\"checkbox\" checked><label for=\"sk-estimator-id-4\" class=\"sk-toggleable__label sk-toggleable__label-arrow\">AdaBoostClassifier</label><div class=\"sk-toggleable__content\"><pre>AdaBoostClassifier(learning_rate=0.5, n_estimators=150)</pre></div></div></div></div></div>"
            ],
            "text/plain": [
              "AdaBoostClassifier(learning_rate=0.5, n_estimators=150)"
            ]
          },
          "execution_count": 56,
          "metadata": {},
          "output_type": "execute_result"
        }
      ],
      "source": [
        "t_ada = AdaBoostClassifier(learning_rate=0.5,n_estimators=150)\n",
        "t_ada.fit(train_x,train_y)"
      ]
    },
    {
      "cell_type": "code",
      "execution_count": null,
      "id": "e5ff9883",
      "metadata": {
        "id": "e5ff9883",
        "outputId": "e3a3fd44-9b4c-47c5-f731-e258162b9d78"
      },
      "outputs": [
        {
          "data": {
            "text/plain": [
              "81.61209068010076"
            ]
          },
          "execution_count": 57,
          "metadata": {},
          "output_type": "execute_result"
        }
      ],
      "source": [
        "y_pred = t_ada.predict(train_x)\n",
        "acc = precision_score(train_y, y_pred)\n",
        "acc*100"
      ]
    },
    {
      "cell_type": "code",
      "execution_count": null,
      "id": "342c1cdf",
      "metadata": {
        "id": "342c1cdf",
        "outputId": "919a5d4a-efde-4bfa-d081-6fd30f8f6ebc"
      },
      "outputs": [
        {
          "data": {
            "text/plain": [
              "86.0"
            ]
          },
          "execution_count": 58,
          "metadata": {},
          "output_type": "execute_result"
        }
      ],
      "source": [
        "y_pred = t_ada.predict(test_x)\n",
        "acc = precision_score(test_y, y_pred)\n",
        "acc*100"
      ]
    },
    {
      "cell_type": "code",
      "execution_count": null,
      "id": "ea0c77c8",
      "metadata": {
        "id": "ea0c77c8",
        "outputId": "6aade1b8-ddb4-4227-e67b-500b5c7fa8b8"
      },
      "outputs": [
        {
          "name": "stdout",
          "output_type": "stream",
          "text": [
            "[[19 14]\n",
            " [ 4 86]]\n"
          ]
        }
      ],
      "source": [
        "cm = confusion_matrix(test_y, y_pred)\n",
        "print(cm)"
      ]
    },
    {
      "cell_type": "code",
      "execution_count": null,
      "id": "c650792b",
      "metadata": {
        "scrolled": true,
        "id": "c650792b",
        "outputId": "84905d30-1d36-431f-9f67-9069d861fc6e"
      },
      "outputs": [
        {
          "name": "stdout",
          "output_type": "stream",
          "text": [
            "              precision    recall  f1-score   support\n",
            "\n",
            "           0       0.83      0.58      0.68        33\n",
            "           1       0.86      0.96      0.91        90\n",
            "\n",
            "    accuracy                           0.85       123\n",
            "   macro avg       0.84      0.77      0.79       123\n",
            "weighted avg       0.85      0.85      0.84       123\n",
            "\n"
          ]
        }
      ],
      "source": [
        "print(classification_report(test_y, y_pred))"
      ]
    }
  ],
  "metadata": {
    "kernelspec": {
      "display_name": "Python 3 (ipykernel)",
      "language": "python",
      "name": "python3"
    },
    "language_info": {
      "codemirror_mode": {
        "name": "ipython",
        "version": 3
      },
      "file_extension": ".py",
      "mimetype": "text/x-python",
      "name": "python",
      "nbconvert_exporter": "python",
      "pygments_lexer": "ipython3",
      "version": "3.10.9"
    },
    "colab": {
      "provenance": []
    }
  },
  "nbformat": 4,
  "nbformat_minor": 5
}